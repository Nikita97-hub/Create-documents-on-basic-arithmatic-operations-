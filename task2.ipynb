{
 "cells": [
  {
   "cell_type": "markdown",
   "id": "cb8a45cd-7450-4e57-bbde-97e42ee80180",
   "metadata": {},
   "source": [
    "# Introduction to Basic Arithmetic Operations"
   ]
  },
  {
   "cell_type": "markdown",
   "id": "2e6495d7-a0e7-4e40-a699-67e580bf60ce",
   "metadata": {},
   "source": [
    "Addition (+)\n",
    "\n",
    "\n",
    "Addition is the process of combining two numbers to get their sum\n",
    "a = 5\n",
    "b = 3\n",
    "result = a + b"
   ]
  },
  {
   "cell_type": "code",
   "execution_count": 3,
   "id": "3f7e5314-e8f7-4afd-af05-2bd31dfaef34",
   "metadata": {},
   "outputs": [],
   "source": [
    "a=5\n",
    "b=3"
   ]
  },
  {
   "cell_type": "code",
   "execution_count": 5,
   "id": "28d21ef9-4f51-43ef-b48a-03867de0f6c6",
   "metadata": {},
   "outputs": [],
   "source": [
    "result=a+b"
   ]
  },
  {
   "cell_type": "code",
   "execution_count": 7,
   "id": "442223d7-c70e-4fc8-997f-c2c9e08b9b6d",
   "metadata": {},
   "outputs": [
    {
     "data": {
      "text/plain": [
       "8"
      ]
     },
     "execution_count": 7,
     "metadata": {},
     "output_type": "execute_result"
    }
   ],
   "source": [
    "result"
   ]
  },
  {
   "cell_type": "markdown",
   "id": "afc8bbbc-6a9d-4a98-b04b-5a3ca5d70113",
   "metadata": {},
   "source": [
    "Subtraction (-):\n",
    "\n",
    "Subtraction is the operation of removing objects from a collection. It represents the difference between two numbers.\n",
    "a = 5\n",
    "b = 3\n",
    "result = a - b"
   ]
  },
  {
   "cell_type": "code",
   "execution_count": 14,
   "id": "d5653637-3768-451d-874a-d138d08e871e",
   "metadata": {},
   "outputs": [],
   "source": [
    "a=5\n",
    "b=3\n"
   ]
  },
  {
   "cell_type": "code",
   "execution_count": 16,
   "id": "d53176d2-020e-469b-b3f3-f35f4ba3b8fb",
   "metadata": {},
   "outputs": [],
   "source": [
    "result=a-b"
   ]
  },
  {
   "cell_type": "code",
   "execution_count": 18,
   "id": "1a74759b-c194-47a3-b8c6-455bc190fd50",
   "metadata": {},
   "outputs": [
    {
     "data": {
      "text/plain": [
       "2"
      ]
     },
     "execution_count": 18,
     "metadata": {},
     "output_type": "execute_result"
    }
   ],
   "source": [
    "result"
   ]
  },
  {
   "cell_type": "markdown",
   "id": "2384fe24-be2d-4fdf-bcd5-198b441fe585",
   "metadata": {},
   "source": [
    "Multiplication (*)\n",
    "\n",
    "\n",
    "Multiplication is the process of scaling one number by another. It's equivalent to adding a number to itself a certain number of times\n",
    "a = 5\n",
    "b = 3\n",
    "result = a * b"
   ]
  },
  {
   "cell_type": "code",
   "execution_count": 26,
   "id": "0d96cc07-dc6e-4032-98b1-9c1de60f9d7b",
   "metadata": {},
   "outputs": [],
   "source": [
    "a=5\n",
    "b=3"
   ]
  },
  {
   "cell_type": "code",
   "execution_count": 28,
   "id": "5567a2e4-eb01-4801-92af-8dd74b1ec170",
   "metadata": {},
   "outputs": [],
   "source": [
    "result=a*b"
   ]
  },
  {
   "cell_type": "code",
   "execution_count": 30,
   "id": "c3ec1ff7-6cee-4725-ab46-83810fa98d5d",
   "metadata": {},
   "outputs": [
    {
     "data": {
      "text/plain": [
       "15"
      ]
     },
     "execution_count": 30,
     "metadata": {},
     "output_type": "execute_result"
    }
   ],
   "source": [
    "result"
   ]
  },
  {
   "cell_type": "markdown",
   "id": "85ce466a-1361-4348-94d1-bdab70597d00",
   "metadata": {},
   "source": [
    "Division (/)\n",
    "\n",
    "Division is the process of determining how many times one number is contained within another.\n",
    "a = 5\n",
    "b = 3\n",
    "result = a / b\n",
    "\n",
    "\n"
   ]
  },
  {
   "cell_type": "code",
   "execution_count": 33,
   "id": "d5eb2c6c-7a2c-4d8a-aff2-5ebed83a77db",
   "metadata": {},
   "outputs": [],
   "source": [
    "a=5\n",
    "b=3\n"
   ]
  },
  {
   "cell_type": "code",
   "execution_count": 35,
   "id": "6cc6bbfa-2775-4aad-8516-9869562d08df",
   "metadata": {},
   "outputs": [],
   "source": [
    "result=a/b"
   ]
  },
  {
   "cell_type": "code",
   "execution_count": 40,
   "id": "a1c2373f-28ab-4f4f-a334-04e097fd0572",
   "metadata": {},
   "outputs": [
    {
     "data": {
      "text/plain": [
       "1.6666666666666667"
      ]
     },
     "execution_count": 40,
     "metadata": {},
     "output_type": "execute_result"
    }
   ],
   "source": [
    "result"
   ]
  },
  {
   "cell_type": "markdown",
   "id": "936d60f5-e711-403e-9a4b-135a8fe750e3",
   "metadata": {},
   "source": [
    "Modulus (%)\n",
    "\n",
    "The modulus operation returns the remainder after division of one number by another."
   ]
  },
  {
   "cell_type": "code",
   "execution_count": 45,
   "id": "1a58cd25-0f2c-4b07-a104-20abfa5f4ec6",
   "metadata": {},
   "outputs": [],
   "source": [
    "a=5\n",
    "b=3"
   ]
  },
  {
   "cell_type": "code",
   "execution_count": 47,
   "id": "200527d2-9afb-4796-a905-61bc81cfc4a5",
   "metadata": {},
   "outputs": [],
   "source": [
    "result=a%b"
   ]
  },
  {
   "cell_type": "code",
   "execution_count": 49,
   "id": "41f6dea5-8c31-4921-ba42-629d2de78c15",
   "metadata": {},
   "outputs": [
    {
     "data": {
      "text/plain": [
       "2"
      ]
     },
     "execution_count": 49,
     "metadata": {},
     "output_type": "execute_result"
    }
   ],
   "source": [
    "result"
   ]
  },
  {
   "cell_type": "markdown",
   "id": "a5d14bb5-48a5-4fd0-bab6-bbaa690c6ddf",
   "metadata": {},
   "source": [
    "Exponentiation (**)\n",
    "\n",
    "Theory: Exponentiation raises one number to the power of another. For example, a**b is a raised to the power of b."
   ]
  },
  {
   "cell_type": "code",
   "execution_count": 54,
   "id": "1de1ec64-41dc-439c-b77e-ba17726245a5",
   "metadata": {},
   "outputs": [],
   "source": [
    "a=5\n",
    "b=3"
   ]
  },
  {
   "cell_type": "code",
   "execution_count": 56,
   "id": "a298a017-ac32-4ef6-8e35-97e87cde1d76",
   "metadata": {},
   "outputs": [],
   "source": [
    "result=a**b"
   ]
  },
  {
   "cell_type": "code",
   "execution_count": 58,
   "id": "0f75ea56-616e-4b40-a0f6-9ebce68f08ad",
   "metadata": {},
   "outputs": [
    {
     "data": {
      "text/plain": [
       "125"
      ]
     },
     "execution_count": 58,
     "metadata": {},
     "output_type": "execute_result"
    }
   ],
   "source": [
    "result"
   ]
  },
  {
   "cell_type": "markdown",
   "id": "67510972-bd5e-4fe0-8f75-b258f74ea162",
   "metadata": {},
   "source": [
    "Equality (==)\n",
    "\n",
    "Checks if the values on both sides of the operator are equal.\n"
   ]
  },
  {
   "cell_type": "code",
   "execution_count": 63,
   "id": "0c01f797-9e6e-48d1-8971-6c8163c09089",
   "metadata": {},
   "outputs": [],
   "source": [
    "a=5\n",
    "b=3"
   ]
  },
  {
   "cell_type": "code",
   "execution_count": 65,
   "id": "055078e2-9087-4373-aa1c-55a2d9c7af88",
   "metadata": {},
   "outputs": [],
   "source": [
    "result= a==b"
   ]
  },
  {
   "cell_type": "code",
   "execution_count": 67,
   "id": "a20736bc-30c1-491b-a375-67e1f28083ea",
   "metadata": {},
   "outputs": [
    {
     "data": {
      "text/plain": [
       "False"
      ]
     },
     "execution_count": 67,
     "metadata": {},
     "output_type": "execute_result"
    }
   ],
   "source": [
    "result"
   ]
  },
  {
   "cell_type": "markdown",
   "id": "09f5ab30-efd4-4711-97b3-cb947764e5b0",
   "metadata": {},
   "source": [
    "Greater than (>)\n",
    "\n",
    "Checks if the value on the left is greater than the value on the right.\n"
   ]
  },
  {
   "cell_type": "code",
   "execution_count": 70,
   "id": "721ec76f-228a-4f4e-a7d0-983f2d6f2686",
   "metadata": {},
   "outputs": [],
   "source": [
    "a=5\n",
    "b=3\n"
   ]
  },
  {
   "cell_type": "code",
   "execution_count": 72,
   "id": "eb9169a9-4917-4abb-af1e-c0ab88c7da78",
   "metadata": {},
   "outputs": [],
   "source": [
    "result = a > b"
   ]
  },
  {
   "cell_type": "code",
   "execution_count": 74,
   "id": "ccba8872-5863-419e-a53c-73f77fccaf84",
   "metadata": {},
   "outputs": [
    {
     "data": {
      "text/plain": [
       "True"
      ]
     },
     "execution_count": 74,
     "metadata": {},
     "output_type": "execute_result"
    }
   ],
   "source": [
    "result"
   ]
  },
  {
   "cell_type": "markdown",
   "id": "303f1b60-acfa-4bb3-acb4-8e7cb0ad071a",
   "metadata": {},
   "source": [
    "Less than (<)\n",
    "\n",
    "Checks if the value on the left is less than the value on the right."
   ]
  },
  {
   "cell_type": "code",
   "execution_count": 77,
   "id": "ef761999-8374-4806-9ed1-8bc2d0f729f3",
   "metadata": {},
   "outputs": [],
   "source": [
    "a=5\n",
    "b=3\n",
    "\n"
   ]
  },
  {
   "cell_type": "code",
   "execution_count": 79,
   "id": "88b178f5-9c12-47f5-bf49-d8195436c65a",
   "metadata": {},
   "outputs": [],
   "source": [
    "result = a < b"
   ]
  },
  {
   "cell_type": "code",
   "execution_count": 81,
   "id": "a7a336cf-804e-448e-861f-170e62c8f3d0",
   "metadata": {},
   "outputs": [
    {
     "data": {
      "text/plain": [
       "False"
      ]
     },
     "execution_count": 81,
     "metadata": {},
     "output_type": "execute_result"
    }
   ],
   "source": [
    "result"
   ]
  },
  {
   "cell_type": "markdown",
   "id": "c29a2684-28eb-44c9-a57f-2c8f472d31f1",
   "metadata": {},
   "source": [
    "Greater than or equal to (>=)\n",
    "\n",
    "Checks if the value on the left is greater than or equal to the value on the right.\n"
   ]
  },
  {
   "cell_type": "code",
   "execution_count": 86,
   "id": "a2acb467-9051-482c-b793-7048cd039384",
   "metadata": {},
   "outputs": [],
   "source": [
    "a = 5\n",
    "b = 3"
   ]
  },
  {
   "cell_type": "code",
   "execution_count": 88,
   "id": "4b905928-30f4-451d-83fc-d9ab6f02de4f",
   "metadata": {},
   "outputs": [],
   "source": [
    "result = a >= b"
   ]
  },
  {
   "cell_type": "code",
   "execution_count": 90,
   "id": "16605dd8-cd65-460b-bf17-8a3c3e676592",
   "metadata": {},
   "outputs": [
    {
     "data": {
      "text/plain": [
       "True"
      ]
     },
     "execution_count": 90,
     "metadata": {},
     "output_type": "execute_result"
    }
   ],
   "source": [
    "result\n"
   ]
  },
  {
   "cell_type": "markdown",
   "id": "8f3e4154-0dfb-40b2-b25c-5353ef2bfe48",
   "metadata": {},
   "source": [
    "Less than or equal to (<=)\n",
    "\n",
    "Checks if the value on the left is less than or equal to the value on the right."
   ]
  },
  {
   "cell_type": "code",
   "execution_count": 95,
   "id": "a36f7b41-7dbc-4c52-b44d-c45d82eb0915",
   "metadata": {},
   "outputs": [],
   "source": [
    "a = 5\n",
    "b = 3\n"
   ]
  },
  {
   "cell_type": "code",
   "execution_count": 97,
   "id": "e42dc297-1d67-4838-8042-6a67649e91c0",
   "metadata": {},
   "outputs": [],
   "source": [
    "result = a <= b\n"
   ]
  },
  {
   "cell_type": "code",
   "execution_count": 101,
   "id": "e6dbd78e-e132-48d5-a7d0-f28c69cb9e97",
   "metadata": {},
   "outputs": [
    {
     "data": {
      "text/plain": [
       "False"
      ]
     },
     "execution_count": 101,
     "metadata": {},
     "output_type": "execute_result"
    }
   ],
   "source": [
    "result"
   ]
  },
  {
   "cell_type": "code",
   "execution_count": null,
   "id": "5ef799f5-8861-4243-8819-1f1962d14032",
   "metadata": {},
   "outputs": [],
   "source": []
  }
 ],
 "metadata": {
  "kernelspec": {
   "display_name": "Python 3 (ipykernel)",
   "language": "python",
   "name": "python3"
  },
  "language_info": {
   "codemirror_mode": {
    "name": "ipython",
    "version": 3
   },
   "file_extension": ".py",
   "mimetype": "text/x-python",
   "name": "python",
   "nbconvert_exporter": "python",
   "pygments_lexer": "ipython3",
   "version": "3.12.4"
  }
 },
 "nbformat": 4,
 "nbformat_minor": 5
}
